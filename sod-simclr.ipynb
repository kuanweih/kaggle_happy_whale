{
 "cells": [
  {
   "cell_type": "markdown",
   "id": "8afcf9bb",
   "metadata": {
    "papermill": {
     "duration": 0.025285,
     "end_time": "2022-03-26T18:18:47.495684",
     "exception": false,
     "start_time": "2022-03-26T18:18:47.470399",
     "status": "completed"
    },
    "tags": []
   },
   "source": [
    "Ref:\n",
    "* https://www.kaggle.com/code/jirkaborovec/whale-dolphin-embedding-lit-flash-simclr\n",
    "* https://www.kaggle.com/remekkinas/remove-background-salient-object-detection\n",
    "* https://www.kaggle.com/abcd28s/simclr"
   ]
  },
  {
   "cell_type": "code",
   "execution_count": 1,
   "id": "90a31384",
   "metadata": {
    "_cell_guid": "b1076dfc-b9ad-4769-8c92-a6c4dae69d19",
    "_uuid": "8f2839f25d086af736a60e9eeb907d3b93b6e0e5",
    "execution": {
     "iopub.execute_input": "2022-03-26T18:18:47.555407Z",
     "iopub.status.busy": "2022-03-26T18:18:47.554704Z",
     "iopub.status.idle": "2022-03-26T18:18:48.871515Z",
     "shell.execute_reply": "2022-03-26T18:18:48.870539Z",
     "shell.execute_reply.started": "2022-03-26T18:16:02.034744Z"
    },
    "papermill": {
     "duration": 1.352412,
     "end_time": "2022-03-26T18:18:48.871827",
     "exception": false,
     "start_time": "2022-03-26T18:18:47.519415",
     "status": "completed"
    },
    "tags": []
   },
   "outputs": [],
   "source": [
    "import os\n",
    "import time\n",
    "import torch\n",
    "\n",
    "import numpy as np \n",
    "import pandas as pd \n",
    "import matplotlib.pyplot as plt"
   ]
  },
  {
   "cell_type": "code",
   "execution_count": 2,
   "id": "6a3db85f",
   "metadata": {
    "execution": {
     "iopub.execute_input": "2022-03-26T18:18:48.927759Z",
     "iopub.status.busy": "2022-03-26T18:18:48.926863Z",
     "iopub.status.idle": "2022-03-26T18:18:49.170379Z",
     "shell.execute_reply": "2022-03-26T18:18:49.169744Z",
     "shell.execute_reply.started": "2022-03-26T18:16:02.106083Z"
    },
    "papermill": {
     "duration": 0.27414,
     "end_time": "2022-03-26T18:18:49.170574",
     "exception": false,
     "start_time": "2022-03-26T18:18:48.896434",
     "status": "completed"
    },
    "tags": []
   },
   "outputs": [],
   "source": [
    "import torch.nn as nn\n",
    "import torchvision.models as models\n",
    "\n",
    "from torchvision.datasets import ImageFolder\n",
    "from torchvision.transforms import (\n",
    "    RandomResizedCrop,\n",
    "    RandomHorizontalFlip,\n",
    "    ColorJitter,\n",
    "    RandomGrayscale,\n",
    "    RandomApply,\n",
    "    Compose,\n",
    "    GaussianBlur,\n",
    "    ToTensor,\n",
    ")"
   ]
  },
  {
   "cell_type": "code",
   "execution_count": 3,
   "id": "225e69c3",
   "metadata": {
    "execution": {
     "iopub.execute_input": "2022-03-26T18:18:49.225127Z",
     "iopub.status.busy": "2022-03-26T18:18:49.224412Z",
     "iopub.status.idle": "2022-03-26T18:18:49.227788Z",
     "shell.execute_reply": "2022-03-26T18:18:49.228308Z",
     "shell.execute_reply.started": "2022-03-26T18:16:02.175752Z"
    },
    "papermill": {
     "duration": 0.034292,
     "end_time": "2022-03-26T18:18:49.228506",
     "exception": false,
     "start_time": "2022-03-26T18:18:49.194214",
     "status": "completed"
    },
    "tags": []
   },
   "outputs": [
    {
     "name": "stdout",
     "output_type": "stream",
     "text": [
      "Torch-Version 1.9.1+cpu\n",
      "DEVICE: cpu\n"
     ]
    }
   ],
   "source": [
    "print(f'Torch-Version {torch.__version__}')\n",
    "DEVICE = torch.device(\"cuda\" if torch.cuda.is_available() else \"cpu\")\n",
    "print(f'DEVICE: {DEVICE}')"
   ]
  },
  {
   "cell_type": "code",
   "execution_count": 4,
   "id": "12e748ec",
   "metadata": {
    "execution": {
     "iopub.execute_input": "2022-03-26T18:18:49.284335Z",
     "iopub.status.busy": "2022-03-26T18:18:49.283332Z",
     "iopub.status.idle": "2022-03-26T18:18:50.054229Z",
     "shell.execute_reply": "2022-03-26T18:18:50.053662Z",
     "shell.execute_reply.started": "2022-03-26T18:16:02.273542Z"
    },
    "papermill": {
     "duration": 0.801575,
     "end_time": "2022-03-26T18:18:50.054413",
     "exception": false,
     "start_time": "2022-03-26T18:18:49.252838",
     "status": "completed"
    },
    "tags": []
   },
   "outputs": [
    {
     "name": "stdout",
     "output_type": "stream",
     "text": [
      "total 4668\r\n",
      "-rw-r--r-- 1 nobody nogroup 2404234 Feb  1 16:58 sample_submission.csv\r\n",
      "drwxr-xr-x 2 nobody nogroup       0 Feb  1 17:00 test_images\r\n",
      "-rw-r--r-- 1 nobody nogroup 2371769 Feb  1 17:00 train.csv\r\n",
      "drwxr-xr-x 2 nobody nogroup       0 Feb  1 17:04 train_images\r\n"
     ]
    }
   ],
   "source": [
    "!ls -l /kaggle/input/happy-whale-and-dolphin/"
   ]
  },
  {
   "cell_type": "code",
   "execution_count": 5,
   "id": "74e814a8",
   "metadata": {
    "execution": {
     "iopub.execute_input": "2022-03-26T18:18:50.107163Z",
     "iopub.status.busy": "2022-03-26T18:18:50.106444Z",
     "iopub.status.idle": "2022-03-26T18:18:56.397247Z",
     "shell.execute_reply": "2022-03-26T18:18:56.396347Z",
     "shell.execute_reply.started": "2022-03-26T18:16:03.086259Z"
    },
    "papermill": {
     "duration": 6.319212,
     "end_time": "2022-03-26T18:18:56.397426",
     "exception": false,
     "start_time": "2022-03-26T18:18:50.078214",
     "status": "completed"
    },
    "tags": []
   },
   "outputs": [
    {
     "name": "stdout",
     "output_type": "stream",
     "text": [
      "\u001b[01;34m/kaggle/input/happy-whale-and-dolphin/\u001b[00m\r\n",
      "├── \u001b[01;34mtest_images\u001b[00m\r\n",
      "└── \u001b[01;34mtrain_images\u001b[00m\r\n",
      "\r\n",
      "2 directories\r\n"
     ]
    }
   ],
   "source": [
    "!tree -d /kaggle/input/happy-whale-and-dolphin/"
   ]
  },
  {
   "cell_type": "code",
   "execution_count": 6,
   "id": "ebd19f6f",
   "metadata": {
    "execution": {
     "iopub.execute_input": "2022-03-26T18:18:56.453554Z",
     "iopub.status.busy": "2022-03-26T18:18:56.452888Z",
     "iopub.status.idle": "2022-03-26T18:18:56.455883Z",
     "shell.execute_reply": "2022-03-26T18:18:56.455248Z",
     "shell.execute_reply.started": "2022-03-26T18:16:09.052249Z"
    },
    "papermill": {
     "duration": 0.033476,
     "end_time": "2022-03-26T18:18:56.456030",
     "exception": false,
     "start_time": "2022-03-26T18:18:56.422554",
     "status": "completed"
    },
    "tags": []
   },
   "outputs": [],
   "source": [
    "PATH_DATASET = '/kaggle/input/happy-whale-and-dolphin/'"
   ]
  },
  {
   "cell_type": "code",
   "execution_count": 7,
   "id": "10cc4294",
   "metadata": {
    "execution": {
     "iopub.execute_input": "2022-03-26T18:18:56.514933Z",
     "iopub.status.busy": "2022-03-26T18:18:56.514159Z",
     "iopub.status.idle": "2022-03-26T18:18:56.663559Z",
     "shell.execute_reply": "2022-03-26T18:18:56.664499Z",
     "shell.execute_reply.started": "2022-03-26T18:16:09.060497Z"
    },
    "papermill": {
     "duration": 0.182838,
     "end_time": "2022-03-26T18:18:56.664722",
     "exception": false,
     "start_time": "2022-03-26T18:18:56.481884",
     "status": "completed"
    },
    "tags": []
   },
   "outputs": [
    {
     "name": "stdout",
     "output_type": "stream",
     "text": [
      "<class 'pandas.core.frame.DataFrame'>\n",
      "RangeIndex: 51033 entries, 0 to 51032\n",
      "Data columns (total 3 columns):\n",
      " #   Column         Non-Null Count  Dtype \n",
      "---  ------         --------------  ----- \n",
      " 0   image          51033 non-null  object\n",
      " 1   species        51033 non-null  object\n",
      " 2   individual_id  51033 non-null  object\n",
      "dtypes: object(3)\n",
      "memory usage: 1.2+ MB\n"
     ]
    }
   ],
   "source": [
    "df_train = pd.read_csv(PATH_DATASET + 'train.csv')\n",
    "df_train.info()"
   ]
  },
  {
   "cell_type": "code",
   "execution_count": 8,
   "id": "aa98160a",
   "metadata": {
    "execution": {
     "iopub.execute_input": "2022-03-26T18:18:56.721300Z",
     "iopub.status.busy": "2022-03-26T18:18:56.720515Z",
     "iopub.status.idle": "2022-03-26T18:18:56.737818Z",
     "shell.execute_reply": "2022-03-26T18:18:56.738378Z",
     "shell.execute_reply.started": "2022-03-26T18:16:09.210190Z"
    },
    "papermill": {
     "duration": 0.047512,
     "end_time": "2022-03-26T18:18:56.738588",
     "exception": false,
     "start_time": "2022-03-26T18:18:56.691076",
     "status": "completed"
    },
    "tags": []
   },
   "outputs": [
    {
     "data": {
      "text/html": [
       "<div>\n",
       "<style scoped>\n",
       "    .dataframe tbody tr th:only-of-type {\n",
       "        vertical-align: middle;\n",
       "    }\n",
       "\n",
       "    .dataframe tbody tr th {\n",
       "        vertical-align: top;\n",
       "    }\n",
       "\n",
       "    .dataframe thead th {\n",
       "        text-align: right;\n",
       "    }\n",
       "</style>\n",
       "<table border=\"1\" class=\"dataframe\">\n",
       "  <thead>\n",
       "    <tr style=\"text-align: right;\">\n",
       "      <th></th>\n",
       "      <th>image</th>\n",
       "      <th>species</th>\n",
       "      <th>individual_id</th>\n",
       "    </tr>\n",
       "  </thead>\n",
       "  <tbody>\n",
       "    <tr>\n",
       "      <th>0</th>\n",
       "      <td>00021adfb725ed.jpg</td>\n",
       "      <td>melon_headed_whale</td>\n",
       "      <td>cadddb1636b9</td>\n",
       "    </tr>\n",
       "    <tr>\n",
       "      <th>1</th>\n",
       "      <td>000562241d384d.jpg</td>\n",
       "      <td>humpback_whale</td>\n",
       "      <td>1a71fbb72250</td>\n",
       "    </tr>\n",
       "    <tr>\n",
       "      <th>2</th>\n",
       "      <td>0007c33415ce37.jpg</td>\n",
       "      <td>false_killer_whale</td>\n",
       "      <td>60008f293a2b</td>\n",
       "    </tr>\n",
       "    <tr>\n",
       "      <th>3</th>\n",
       "      <td>0007d9bca26a99.jpg</td>\n",
       "      <td>bottlenose_dolphin</td>\n",
       "      <td>4b00fe572063</td>\n",
       "    </tr>\n",
       "    <tr>\n",
       "      <th>4</th>\n",
       "      <td>00087baf5cef7a.jpg</td>\n",
       "      <td>humpback_whale</td>\n",
       "      <td>8e5253662392</td>\n",
       "    </tr>\n",
       "  </tbody>\n",
       "</table>\n",
       "</div>"
      ],
      "text/plain": [
       "                image             species individual_id\n",
       "0  00021adfb725ed.jpg  melon_headed_whale  cadddb1636b9\n",
       "1  000562241d384d.jpg      humpback_whale  1a71fbb72250\n",
       "2  0007c33415ce37.jpg  false_killer_whale  60008f293a2b\n",
       "3  0007d9bca26a99.jpg  bottlenose_dolphin  4b00fe572063\n",
       "4  00087baf5cef7a.jpg      humpback_whale  8e5253662392"
      ]
     },
     "execution_count": 8,
     "metadata": {},
     "output_type": "execute_result"
    }
   ],
   "source": [
    "df_train.head()"
   ]
  },
  {
   "cell_type": "code",
   "execution_count": 9,
   "id": "90c79ae0",
   "metadata": {
    "execution": {
     "iopub.execute_input": "2022-03-26T18:18:56.800731Z",
     "iopub.status.busy": "2022-03-26T18:18:56.795425Z",
     "iopub.status.idle": "2022-03-26T18:18:56.812676Z",
     "shell.execute_reply": "2022-03-26T18:18:56.813197Z",
     "shell.execute_reply.started": "2022-03-26T18:16:09.222624Z"
    },
    "papermill": {
     "duration": 0.048373,
     "end_time": "2022-03-26T18:18:56.813428",
     "exception": false,
     "start_time": "2022-03-26T18:18:56.765055",
     "status": "completed"
    },
    "tags": []
   },
   "outputs": [
    {
     "name": "stdout",
     "output_type": "stream",
     "text": [
      "Dataset size: 51033\n",
      "Unique ids: 15587\n",
      "# unique species: 30\n"
     ]
    }
   ],
   "source": [
    "print(f\"Dataset size: {len(df_train)}\")\n",
    "print(f\"Unique ids: {len(df_train['individual_id'].unique())}\")\n",
    "print(f\"# unique species: {len(df_train['species'].unique())}\")"
   ]
  },
  {
   "cell_type": "code",
   "execution_count": 10,
   "id": "a4b1a457",
   "metadata": {
    "execution": {
     "iopub.execute_input": "2022-03-26T18:18:56.875793Z",
     "iopub.status.busy": "2022-03-26T18:18:56.875040Z",
     "iopub.status.idle": "2022-03-26T18:18:56.878491Z",
     "shell.execute_reply": "2022-03-26T18:18:56.877892Z",
     "shell.execute_reply.started": "2022-03-26T18:16:09.246951Z"
    },
    "papermill": {
     "duration": 0.035953,
     "end_time": "2022-03-26T18:18:56.878657",
     "exception": false,
     "start_time": "2022-03-26T18:18:56.842704",
     "status": "completed"
    },
    "tags": []
   },
   "outputs": [],
   "source": [
    "df_train = df_train[:128]  # needs to be removed"
   ]
  },
  {
   "cell_type": "code",
   "execution_count": 11,
   "id": "67f7c614",
   "metadata": {
    "execution": {
     "iopub.execute_input": "2022-03-26T18:18:56.945438Z",
     "iopub.status.busy": "2022-03-26T18:18:56.944682Z",
     "iopub.status.idle": "2022-03-26T18:18:56.948018Z",
     "shell.execute_reply": "2022-03-26T18:18:56.947431Z",
     "shell.execute_reply.started": "2022-03-26T18:16:09.252513Z"
    },
    "papermill": {
     "duration": 0.042184,
     "end_time": "2022-03-26T18:18:56.948174",
     "exception": false,
     "start_time": "2022-03-26T18:18:56.905990",
     "status": "completed"
    },
    "tags": []
   },
   "outputs": [],
   "source": [
    "from PIL import Image\n",
    "from torch.utils.data import Dataset\n",
    "\n",
    "\n",
    "class HappyWhaleDataset(Dataset):\n",
    "    def __init__(self, df: pd.DataFrame, path_folder: str, transform=None):\n",
    "        \"\"\"\n",
    "        Args:\n",
    "            df: dataframe of train csv \n",
    "            path_folder: path of train images\n",
    "            transform: (callable, optional): optional transform to be applied on a sample\n",
    "        \"\"\"\n",
    "        self.df = df\n",
    "        self.transform = transform\n",
    "\n",
    "        self.image_names = self.df[\"image\"].values\n",
    "        self.image_paths = [os.path.join(path_folder, name) for name in self.image_names]\n",
    "        self.targets = list(self.df[\"individual_id\"])\n",
    "        self.uq_targets = sorted(set(self.targets))\n",
    "        lut = {v: k for k, v in dict(enumerate(self.uq_targets)).items()}\n",
    "        self.labels = [lut[ind] for ind in self.targets]\n",
    "\n",
    "    def __len__(self) -> int:\n",
    "        return len(self.df)\n",
    "    \n",
    "    def __getitem__(self, idx: int) -> tuple:\n",
    "        \"\"\"\n",
    "        Args:\n",
    "            idx: index for the dataset\n",
    "        \"\"\"\n",
    "        img_path = self.image_paths[idx]\n",
    "        img = Image.open(img_path).convert('RGB')\n",
    "\n",
    "        if self.transform:\n",
    "            img = self.transform(img)\n",
    "            \n",
    "        return img\n"
   ]
  },
  {
   "cell_type": "code",
   "execution_count": 12,
   "id": "0769d9c3",
   "metadata": {
    "execution": {
     "iopub.execute_input": "2022-03-26T18:18:57.013339Z",
     "iopub.status.busy": "2022-03-26T18:18:57.012626Z",
     "iopub.status.idle": "2022-03-26T18:18:57.015136Z",
     "shell.execute_reply": "2022-03-26T18:18:57.014510Z",
     "shell.execute_reply.started": "2022-03-26T18:16:09.265692Z"
    },
    "papermill": {
     "duration": 0.040564,
     "end_time": "2022-03-26T18:18:57.015300",
     "exception": false,
     "start_time": "2022-03-26T18:18:56.974736",
     "status": "completed"
    },
    "tags": []
   },
   "outputs": [],
   "source": [
    "def get_complete_transform(output_shape, kernel_size, s=1.0):\n",
    "    \"\"\"\n",
    "    The SimCLR transform.\n",
    "    \n",
    "    Args:\n",
    "        output_shape: output image shape, [int, int]\n",
    "        kernel_size: kernel size for Gaussian blur, [int, int]\n",
    "        s: strength parameter, float\n",
    "    \n",
    "    Returns:\n",
    "        image_transform: the simclr transform\n",
    "    \"\"\"\n",
    "    rnd_crop = RandomResizedCrop(output_shape)\n",
    "    rnd_flip = RandomHorizontalFlip(p=0.5)\n",
    "    \n",
    "    color_jitter = ColorJitter(0.8*s, 0.8*s, 0.8*s, 0.2*s)\n",
    "    rnd_color_jitter = RandomApply([color_jitter], p=0.8)\n",
    "    \n",
    "    rnd_gray = RandomGrayscale(p=0.2)\n",
    "    gaussian_blur = GaussianBlur(kernel_size=kernel_size)\n",
    "    rnd_gaussian_blur = RandomApply([gaussian_blur], p=0.5)\n",
    "    to_tensor = ToTensor()\n",
    "    image_transform = Compose([\n",
    "        to_tensor,\n",
    "        rnd_crop,\n",
    "        rnd_flip,\n",
    "        rnd_color_jitter,\n",
    "        rnd_gray,\n",
    "        rnd_gaussian_blur,\n",
    "    ])\n",
    "    return image_transform\n",
    "\n",
    "\n",
    "class ContrastiveLearningViewGenerator(object):\n",
    "    \"\"\"\n",
    "    Take two random crops of one image as the query and key.\n",
    "    \n",
    "    Args:\n",
    "        base_transform: the transform applied to the image\n",
    "        n_views (optional): number of output images\n",
    "    \"\"\"\n",
    "\n",
    "    def __init__(self, base_transform, n_views=2):\n",
    "        self.base_transform = base_transform\n",
    "        self.n_views = n_views\n",
    "\n",
    "    def __call__(self, x):\n",
    "        views = [self.base_transform(x) for i in range(self.n_views)]\n",
    "        return views"
   ]
  },
  {
   "cell_type": "code",
   "execution_count": 13,
   "id": "20fa21ab",
   "metadata": {
    "execution": {
     "iopub.execute_input": "2022-03-26T18:18:57.080237Z",
     "iopub.status.busy": "2022-03-26T18:18:57.079162Z",
     "iopub.status.idle": "2022-03-26T18:18:57.082315Z",
     "shell.execute_reply": "2022-03-26T18:18:57.082860Z",
     "shell.execute_reply.started": "2022-03-26T18:16:09.277768Z"
    },
    "papermill": {
     "duration": 0.039866,
     "end_time": "2022-03-26T18:18:57.083062",
     "exception": false,
     "start_time": "2022-03-26T18:18:57.043196",
     "status": "completed"
    },
    "tags": []
   },
   "outputs": [],
   "source": [
    "# The size of the images\n",
    "output_shape = [224,224]\n",
    "kernel_size = [21,21] # 10% of the output_shape\n",
    "\n",
    "# The custom transform\n",
    "base_transforms = get_complete_transform(output_shape=output_shape, kernel_size=kernel_size, s=1.0)\n",
    "custom_transform = ContrastiveLearningViewGenerator(base_transform=base_transforms)"
   ]
  },
  {
   "cell_type": "code",
   "execution_count": 14,
   "id": "96b4ba55",
   "metadata": {
    "execution": {
     "iopub.execute_input": "2022-03-26T18:18:57.144664Z",
     "iopub.status.busy": "2022-03-26T18:18:57.143956Z",
     "iopub.status.idle": "2022-03-26T18:18:57.146982Z",
     "shell.execute_reply": "2022-03-26T18:18:57.146444Z",
     "shell.execute_reply.started": "2022-03-26T18:16:09.288591Z"
    },
    "papermill": {
     "duration": 0.035494,
     "end_time": "2022-03-26T18:18:57.147138",
     "exception": false,
     "start_time": "2022-03-26T18:18:57.111644",
     "status": "completed"
    },
    "tags": []
   },
   "outputs": [],
   "source": [
    "dataset = HappyWhaleDataset(\n",
    "    df=df_train,\n",
    "    path_folder=f\"{PATH_DATASET}/train_images\",\n",
    "    transform=custom_transform\n",
    ")\n"
   ]
  },
  {
   "cell_type": "code",
   "execution_count": 15,
   "id": "fbbfd010",
   "metadata": {
    "execution": {
     "iopub.execute_input": "2022-03-26T18:18:57.209075Z",
     "iopub.status.busy": "2022-03-26T18:18:57.208204Z",
     "iopub.status.idle": "2022-03-26T18:18:57.210703Z",
     "shell.execute_reply": "2022-03-26T18:18:57.211156Z",
     "shell.execute_reply.started": "2022-03-26T18:16:09.299222Z"
    },
    "papermill": {
     "duration": 0.036695,
     "end_time": "2022-03-26T18:18:57.211381",
     "exception": false,
     "start_time": "2022-03-26T18:18:57.174686",
     "status": "completed"
    },
    "tags": []
   },
   "outputs": [],
   "source": [
    "# BATCH_SIZE = 128\n",
    "BATCH_SIZE = 16  # needs to be updated\n",
    "\n",
    "\n",
    "# Building the data loader\n",
    "train_dl = torch.utils.data.DataLoader(\n",
    "    dataset,\n",
    "    batch_size=BATCH_SIZE,\n",
    "    shuffle=True,\n",
    "    num_workers=os.cpu_count(),\n",
    "    drop_last=True,\n",
    "    pin_memory=True,\n",
    ")"
   ]
  },
  {
   "cell_type": "code",
   "execution_count": 16,
   "id": "723d1473",
   "metadata": {
    "execution": {
     "iopub.execute_input": "2022-03-26T18:18:57.275281Z",
     "iopub.status.busy": "2022-03-26T18:18:57.274030Z",
     "iopub.status.idle": "2022-03-26T18:18:57.277729Z",
     "shell.execute_reply": "2022-03-26T18:18:57.277102Z",
     "shell.execute_reply.started": "2022-03-26T18:16:09.308112Z"
    },
    "papermill": {
     "duration": 0.039151,
     "end_time": "2022-03-26T18:18:57.277865",
     "exception": false,
     "start_time": "2022-03-26T18:18:57.238714",
     "status": "completed"
    },
    "tags": []
   },
   "outputs": [],
   "source": [
    "class Identity(nn.Module):\n",
    "    def __init__(self):\n",
    "        super(Identity, self).__init__()\n",
    "    def forward(self, x):\n",
    "        return x\n",
    "\n",
    "class SimCLR(nn.Module):\n",
    "    def __init__(self, linear_eval=False):\n",
    "        super().__init__()\n",
    "        self.linear_eval = linear_eval\n",
    "        resnet18 = models.resnet18(pretrained=False)\n",
    "        resnet18.fc = Identity()\n",
    "        self.encoder = resnet18\n",
    "        self.projection = nn.Sequential(\n",
    "            nn.Linear(512, 256),\n",
    "            nn.ReLU(),\n",
    "            nn.Linear(256, 256)\n",
    "        )\n",
    "    def forward(self, x):\n",
    "        if not self.linear_eval:\n",
    "            x = torch.cat(x, dim=0)\n",
    "        \n",
    "        encoding = self.encoder(x)\n",
    "        projection = self.projection(encoding) \n",
    "        return projection"
   ]
  },
  {
   "cell_type": "code",
   "execution_count": 17,
   "id": "3fb11efa",
   "metadata": {
    "execution": {
     "iopub.execute_input": "2022-03-26T18:18:57.344718Z",
     "iopub.status.busy": "2022-03-26T18:18:57.343681Z",
     "iopub.status.idle": "2022-03-26T18:18:57.391102Z",
     "shell.execute_reply": "2022-03-26T18:18:57.390487Z",
     "shell.execute_reply.started": "2022-03-26T18:16:09.322239Z"
    },
    "papermill": {
     "duration": 0.086375,
     "end_time": "2022-03-26T18:18:57.391243",
     "exception": false,
     "start_time": "2022-03-26T18:18:57.304868",
     "status": "completed"
    },
    "tags": []
   },
   "outputs": [],
   "source": [
    "LABELS = torch.cat([torch.arange(BATCH_SIZE) for i in range(2)], dim=0)\n",
    "LABELS = (LABELS.unsqueeze(0) == LABELS.unsqueeze(1)).float() # Creates a one-hot with broadcasting\n",
    "LABELS = LABELS.to(DEVICE) #128,128\n",
    "\n",
    "def cont_loss(features, temp):\n",
    "    \"\"\"\n",
    "    The NTxent Loss.\n",
    "    \n",
    "    Args:\n",
    "        z1: The projection of the first branch\n",
    "        z2: The projeciton of the second branch\n",
    "    \n",
    "    Returns:\n",
    "        the NTxent loss\n",
    "    \"\"\"\n",
    "    similarity_matrix = torch.matmul(features, features.T) # 128, 128\n",
    "    # discard the main diagonal from both: labels and similarities matrix\n",
    "    mask = torch.eye(LABELS.shape[0], dtype=torch.bool).to(DEVICE)\n",
    "    # ~mask is the negative of the mask\n",
    "    # the view is required to bring the matrix back to shape\n",
    "    labels = LABELS[~mask].view(LABELS.shape[0], -1) # 128, 127\n",
    "    similarity_matrix = similarity_matrix[~mask].view(similarity_matrix.shape[0], -1) # 128, 127\n",
    "\n",
    "    # select and combine multiple positives\n",
    "    positives = similarity_matrix[labels.bool()].view(labels.shape[0], -1) # 128, 1\n",
    "\n",
    "    # select only the negatives\n",
    "    negatives = similarity_matrix[~labels.bool()].view(similarity_matrix.shape[0], -1) # 128, 126\n",
    "\n",
    "    logits = torch.cat([positives, negatives], dim=1) # 128, 127\n",
    "    labels = torch.zeros(logits.shape[0], dtype=torch.long).to(DEVICE)  # vectorization\n",
    "\n",
    "    logits = logits / temp\n",
    "    return logits, labels"
   ]
  },
  {
   "cell_type": "code",
   "execution_count": 18,
   "id": "53586b21",
   "metadata": {
    "execution": {
     "iopub.execute_input": "2022-03-26T18:18:57.452339Z",
     "iopub.status.busy": "2022-03-26T18:18:57.451654Z",
     "iopub.status.idle": "2022-03-26T18:18:57.710770Z",
     "shell.execute_reply": "2022-03-26T18:18:57.711260Z",
     "shell.execute_reply.started": "2022-03-26T18:16:09.334750Z"
    },
    "papermill": {
     "duration": 0.293894,
     "end_time": "2022-03-26T18:18:57.711462",
     "exception": false,
     "start_time": "2022-03-26T18:18:57.417568",
     "status": "completed"
    },
    "tags": []
   },
   "outputs": [],
   "source": [
    "simclr_model = SimCLR().to(DEVICE)\n",
    "criterion = nn.CrossEntropyLoss().to(DEVICE)\n",
    "optimizer = torch.optim.Adam(simclr_model.parameters())"
   ]
  },
  {
   "cell_type": "code",
   "execution_count": 19,
   "id": "00be6827",
   "metadata": {
    "execution": {
     "iopub.execute_input": "2022-03-26T18:18:57.773765Z",
     "iopub.status.busy": "2022-03-26T18:18:57.768602Z",
     "iopub.status.idle": "2022-03-26T18:19:48.950943Z",
     "shell.execute_reply": "2022-03-26T18:19:48.951464Z",
     "shell.execute_reply.started": "2022-03-26T18:16:09.538987Z"
    },
    "papermill": {
     "duration": 51.212947,
     "end_time": "2022-03-26T18:19:48.951649",
     "exception": false,
     "start_time": "2022-03-26T18:18:57.738702",
     "status": "completed"
    },
    "tags": []
   },
   "outputs": [
    {
     "name": "stdout",
     "output_type": "stream",
     "text": [
      "Time taken: 0.852 mins\n"
     ]
    }
   ],
   "source": [
    "EPOCHS = 1\n",
    "for epoch in range(EPOCHS):\n",
    "    t0 = time.time()\n",
    "    running_loss = 0.0\n",
    "    for i, views in enumerate(train_dl):\n",
    "        \n",
    "        projections = simclr_model([view.to(DEVICE) for view in views])\n",
    "        logits, labels = cont_loss(projections, temp=2)\n",
    "        loss = criterion(logits, labels)\n",
    "        optimizer.zero_grad()\n",
    "        loss.backward()\n",
    "        optimizer.step()\n",
    "        \n",
    "        # print statistics\n",
    "        running_loss += loss.item()\n",
    "        if i % 10 == 9:    # print every 10 mini-batches\n",
    "            print(f'EPOCH: {epoch+1} BATCH: {i+1} LOSS: {(running_loss/100):.4f} ')\n",
    "            running_loss = 0.0\n",
    "    print(f'Time taken: {((time.time()-t0)/60):.3f} mins')"
   ]
  },
  {
   "cell_type": "code",
   "execution_count": null,
   "id": "689f81e7",
   "metadata": {
    "papermill": {
     "duration": 0.026515,
     "end_time": "2022-03-26T18:19:49.005055",
     "exception": false,
     "start_time": "2022-03-26T18:19:48.978540",
     "status": "completed"
    },
    "tags": []
   },
   "outputs": [],
   "source": []
  },
  {
   "cell_type": "code",
   "execution_count": null,
   "id": "afc07479",
   "metadata": {
    "papermill": {
     "duration": 0.02803,
     "end_time": "2022-03-26T18:19:49.059831",
     "exception": false,
     "start_time": "2022-03-26T18:19:49.031801",
     "status": "completed"
    },
    "tags": []
   },
   "outputs": [],
   "source": []
  },
  {
   "cell_type": "code",
   "execution_count": null,
   "id": "26cd8e88",
   "metadata": {
    "papermill": {
     "duration": 0.026501,
     "end_time": "2022-03-26T18:19:49.113343",
     "exception": false,
     "start_time": "2022-03-26T18:19:49.086842",
     "status": "completed"
    },
    "tags": []
   },
   "outputs": [],
   "source": []
  }
 ],
 "metadata": {
  "kernelspec": {
   "display_name": "Python 3",
   "language": "python",
   "name": "python3"
  },
  "language_info": {
   "codemirror_mode": {
    "name": "ipython",
    "version": 3
   },
   "file_extension": ".py",
   "mimetype": "text/x-python",
   "name": "python",
   "nbconvert_exporter": "python",
   "pygments_lexer": "ipython3",
   "version": "3.7.12"
  },
  "papermill": {
   "default_parameters": {},
   "duration": 73.718197,
   "end_time": "2022-03-26T18:19:50.256651",
   "environment_variables": {},
   "exception": null,
   "input_path": "__notebook__.ipynb",
   "output_path": "__notebook__.ipynb",
   "parameters": {},
   "start_time": "2022-03-26T18:18:36.538454",
   "version": "2.3.3"
  }
 },
 "nbformat": 4,
 "nbformat_minor": 5
}
